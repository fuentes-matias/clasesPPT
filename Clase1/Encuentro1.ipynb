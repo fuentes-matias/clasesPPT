{
 "cells": [
  {
   "cell_type": "markdown",
   "id": "ca694c93-0044-46eb-a3e6-d8190ceabf3b",
   "metadata": {
    "panel-layout": {
     "height": 144.238,
     "visible": true,
     "width": 100
    }
   },
   "source": [
    "# <center>Python para Todos\n",
    "\n",
    "<center><img src=\"python-ar21.png\" style=\"float: center;\" width=\"300\"><center>  \n",
    "\n",
    "    \n",
    "## <center>Un espacio para aprender haciendo<center>"
   ]
  },
  {
   "cell_type": "markdown",
   "id": "69816755-c4a1-4a49-821e-7cdc87db1b42",
   "metadata": {
    "jp-MarkdownHeadingCollapsed": true,
    "panel-layout": {
     "height": 212.7,
     "visible": true,
     "width": 100
    }
   },
   "source": [
    "## Primer encuentro: Introducción a Python\n",
    "### ¿Qué vamos a ver hoy?\n",
    "* #### ¿Qué es Python?\n",
    "* #### ¿Por qué y para qué lo utilizamos?\n",
    "* #### Primeros pasos en programación.\n",
    "    * #### Variables: definición y tipos.\n",
    "    * #### Lógica: introducción y uso en programación."
   ]
  },
  {
   "cell_type": "markdown",
   "id": "99fdf616-b858-4b8f-838f-750bc927021b",
   "metadata": {
    "panel-layout": {
     "height": 109.575,
     "visible": true,
     "width": 100
    }
   },
   "source": [
    "## ¿Qué es Python?\n",
    "* #### Lenguaje de programación de alto nivel.\n",
    "* #### Abierto."
   ]
  },
  {
   "cell_type": "markdown",
   "id": "5f865fdb-8d35-42a7-9a6e-1058e650f683",
   "metadata": {
    "panel-layout": {
     "height": 159.925,
     "visible": true,
     "width": 100
    }
   },
   "source": [
    "## ¿Por qué se utiliza?\n",
    "* #### Fácil de utilizar.\n",
    "* #### Comunidad muy grande.\n",
    "* #### Muchas librerías.\n",
    "* #### Muchas preguntas o dudas ya tienen respuesta en Internet."
   ]
  },
  {
   "cell_type": "markdown",
   "id": "15163a07-c4d9-405d-b17c-54145704d693",
   "metadata": {
    "panel-layout": {
     "height": 285.8,
     "visible": true,
     "width": 100
    }
   },
   "source": [
    "## ¿Para qué se utiliza?\n",
    "* #### Herramienta de trabajo potente.\n",
    "* #### Resolver problemas.\n",
    "* #### Filtrar datos en un csv.\n",
    "* #### Descargar, mover o eliminar archivos.\n",
    "* #### Enviar correos o mensajes de texto.\n",
    "* #### Resolver ecuaciones diferenciales.\n",
    "* #### Operaciones matriciales.\n",
    "* #### Crear una función para un problema cotidiano o científico.\n",
    "* #### Inteligencia artificial."
   ]
  },
  {
   "cell_type": "markdown",
   "id": "cd4b9eed-1fbf-449b-8cd6-e93b72446eba",
   "metadata": {
    "panel-layout": {
     "height": 67.95,
     "visible": true,
     "width": 100
    }
   },
   "source": [
    "## Primeros pasos en programación\n",
    "<center><img src=\"coleco-main-1280x720.jpg\" style=\"float: center;\" width=\"400\"><center>"
   ]
  },
  {
   "cell_type": "markdown",
   "id": "a0e9c5d0-d0d7-4735-9935-17e171c903e0",
   "metadata": {
    "panel-layout": {
     "height": 126.825,
     "visible": true,
     "width": 100
    }
   },
   "source": [
    "## Primer código: ¡Hola, mundo!\n",
    "#### ¿Cómo escribimos nuestro primer código? Así:\n",
    "\n",
    "    print(\"¡Hola, mundo!\")\n",
    "\n",
    "#### Ahora te toca intentarlo."
   ]
  },
  {
   "cell_type": "code",
   "execution_count": 31,
   "id": "144754d8-4135-413d-8063-ff8dfa0035e7",
   "metadata": {
    "panel-layout": {
     "height": 0,
     "visible": true,
     "width": 100
    }
   },
   "outputs": [
    {
     "name": "stdout",
     "output_type": "stream",
     "text": [
      "Hello world!\n"
     ]
    }
   ],
   "source": [
    "print(\"Hello world!\")"
   ]
  },
  {
   "cell_type": "markdown",
   "id": "925cdb98-bb61-43f1-b314-7d2b2fd8ab87",
   "metadata": {
    "panel-layout": {
     "height": 43.2125,
     "visible": true,
     "width": 100
    }
   },
   "source": [
    "#### Acabas de imprimir texto en pantalla, pero, ¿qué es el texto en Python?  "
   ]
  },
  {
   "cell_type": "markdown",
   "id": "67753fe4-7c9e-41a2-9bd9-2142cf025c5a",
   "metadata": {
    "panel-layout": {
     "height": 76.475,
     "visible": true,
     "width": 100
    }
   },
   "source": [
    "## Tipos de datos\n",
    "\n",
    "#### Los tipos de datos son categorías o modalidades en las que puede expresarse información. A continuación vamos a ver los tipos de datos más comunes en Python"
   ]
  },
  {
   "cell_type": "markdown",
   "id": "c7c2b129-7197-45d4-9928-e2a6bce2f81c",
   "metadata": {
    "panel-layout": {
     "height": 44.075,
     "visible": true,
     "width": 100
    }
   },
   "source": [
    "### Cadenas de texto o *string* (str)"
   ]
  },
  {
   "cell_type": "code",
   "execution_count": 33,
   "id": "cee0ac75-e33f-43f6-b451-539a6283058d",
   "metadata": {
    "panel-layout": {
     "height": 51.1375,
     "visible": true,
     "width": 100
    }
   },
   "outputs": [
    {
     "data": {
      "text/plain": [
       "'Esto es una cadena de texto.'"
      ]
     },
     "execution_count": 33,
     "metadata": {},
     "output_type": "execute_result"
    }
   ],
   "source": [
    "\"Esto es una cadena de texto.\""
   ]
  },
  {
   "cell_type": "markdown",
   "id": "c154d6ef-8878-441e-a800-c0856578ad90",
   "metadata": {
    "panel-layout": {
     "height": 44.075,
     "visible": true,
     "width": 100
    }
   },
   "source": [
    "### Números enteros (int)"
   ]
  },
  {
   "cell_type": "code",
   "execution_count": 39,
   "id": "080cb2ce-5a69-416d-b7da-4da7f07c3c37",
   "metadata": {
    "panel-layout": {
     "height": 27.1375,
     "visible": true,
     "width": 100
    }
   },
   "outputs": [
    {
     "data": {
      "text/plain": [
       "45"
      ]
     },
     "execution_count": 39,
     "metadata": {},
     "output_type": "execute_result"
    }
   ],
   "source": [
    "45"
   ]
  },
  {
   "cell_type": "markdown",
   "id": "0c3ba455-59db-4de0-a320-5fb1d250a9d5",
   "metadata": {
    "panel-layout": {
     "height": 44.075,
     "visible": true,
     "width": 100
    }
   },
   "source": [
    "### Números de punto flotante (float)"
   ]
  },
  {
   "cell_type": "code",
   "execution_count": 41,
   "id": "36d1202e-5166-4185-9d88-ed50887be049",
   "metadata": {
    "panel-layout": {
     "height": 27.1375,
     "visible": true,
     "width": 100
    }
   },
   "outputs": [
    {
     "data": {
      "text/plain": [
       "3.14159"
      ]
     },
     "execution_count": 41,
     "metadata": {},
     "output_type": "execute_result"
    }
   ],
   "source": [
    "3.14159"
   ]
  },
  {
   "cell_type": "markdown",
   "id": "1ef671ae-cbc3-42e7-8539-d67920decb67",
   "metadata": {
    "panel-layout": {
     "height": 44.075,
     "visible": true,
     "width": 100
    }
   },
   "source": [
    "### Números complejos (complex)"
   ]
  },
  {
   "cell_type": "code",
   "execution_count": 43,
   "id": "1473aa29-8429-4c4b-9259-e34d47b72338",
   "metadata": {
    "panel-layout": {
     "height": 27.1375,
     "visible": true,
     "width": 100
    }
   },
   "outputs": [
    {
     "data": {
      "text/plain": [
       "(1+2j)"
      ]
     },
     "execution_count": 43,
     "metadata": {},
     "output_type": "execute_result"
    }
   ],
   "source": [
    "1 + 2j"
   ]
  },
  {
   "cell_type": "markdown",
   "id": "c9aada08-9bd9-48a8-a21e-b8a464e71b4f",
   "metadata": {
    "panel-layout": {
     "height": 44.075,
     "visible": true,
     "width": 100
    }
   },
   "source": [
    "### Booleanos (bool)"
   ]
  },
  {
   "cell_type": "code",
   "execution_count": 45,
   "id": "b2fbeca2-efb0-4cd3-ad14-ca39e873e53a",
   "metadata": {
    "panel-layout": {
     "height": 27.1375,
     "visible": true,
     "width": 100
    }
   },
   "outputs": [
    {
     "data": {
      "text/plain": [
       "False"
      ]
     },
     "execution_count": 45,
     "metadata": {},
     "output_type": "execute_result"
    }
   ],
   "source": [
    "0 == 1"
   ]
  },
  {
   "cell_type": "code",
   "execution_count": 51,
   "id": "be794395-4067-4527-a4c6-f850e142522c",
   "metadata": {
    "panel-layout": {
     "height": 27.1375,
     "visible": true,
     "width": 100
    }
   },
   "outputs": [
    {
     "data": {
      "text/plain": [
       "True"
      ]
     },
     "execution_count": 51,
     "metadata": {},
     "output_type": "execute_result"
    }
   ],
   "source": [
    "0 == 0"
   ]
  },
  {
   "cell_type": "markdown",
   "id": "66ebefae-4ebd-4308-a623-8881b1d51979",
   "metadata": {
    "panel-layout": {
     "height": 44.075,
     "visible": true,
     "width": 100
    }
   },
   "source": [
    "### Listas (list)"
   ]
  },
  {
   "cell_type": "code",
   "execution_count": 53,
   "id": "c572e4a8-68b5-44af-a39f-3a6b9afab1fb",
   "metadata": {
    "panel-layout": {
     "height": 186.3,
     "visible": true,
     "width": 100
    }
   },
   "outputs": [
    {
     "data": {
      "text/plain": [
       "[0, 1, 1, 2, 3, 5, 8, 11]"
      ]
     },
     "execution_count": 53,
     "metadata": {},
     "output_type": "execute_result"
    }
   ],
   "source": [
    "[0,1,1,2,3,5,8,11]"
   ]
  },
  {
   "cell_type": "markdown",
   "id": "1ec8a6f5-0b59-4639-b871-8556f5eaec71",
   "metadata": {
    "panel-layout": {
     "height": 44.075,
     "visible": true,
     "width": 100
    }
   },
   "source": [
    "### Tuplas (tuple)"
   ]
  },
  {
   "cell_type": "code",
   "execution_count": 55,
   "id": "93cd8d96-de89-40cc-8e99-9dba89065198",
   "metadata": {
    "panel-layout": {
     "height": 27.1375,
     "visible": true,
     "width": 100
    }
   },
   "outputs": [
    {
     "data": {
      "text/plain": [
       "(1, 3, 5, 7, 11, 13, 17)"
      ]
     },
     "execution_count": 55,
     "metadata": {},
     "output_type": "execute_result"
    }
   ],
   "source": [
    "(1,3,5,7,11,13,17)"
   ]
  },
  {
   "cell_type": "markdown",
   "id": "eb12a3a2-0df0-43ec-9f77-24333f49763e",
   "metadata": {
    "panel-layout": {
     "height": 44.075,
     "visible": true,
     "width": 100
    }
   },
   "source": [
    "### Diccionarios (dict)"
   ]
  },
  {
   "cell_type": "code",
   "execution_count": 57,
   "id": "ac219c38-272d-4672-b52f-fea0127ac954",
   "metadata": {
    "panel-layout": {
     "height": 117.75,
     "visible": true,
     "width": 100
    }
   },
   "outputs": [
    {
     "data": {
      "text/plain": [
       "{'Game Pass Core': 6000,\n",
       " 'Game Pass PC': 7000,\n",
       " 'Game Pass Standard': 9000,\n",
       " 'Game Pass Ultimate': 10000}"
      ]
     },
     "execution_count": 57,
     "metadata": {},
     "output_type": "execute_result"
    }
   ],
   "source": [
    "{\"Game Pass Core\": 6000, \"Game Pass PC\": 7000,\"Game Pass Standard\": 9000, \"Game Pass Ultimate\": 10000}"
   ]
  },
  {
   "cell_type": "markdown",
   "id": "a740d244-d794-40bf-ae22-5903398e9d2d",
   "metadata": {
    "panel-layout": {
     "height": 44.075,
     "visible": true,
     "width": 100
    }
   },
   "source": [
    "### *Dataframes* (df)"
   ]
  },
  {
   "cell_type": "code",
   "execution_count": 1,
   "id": "acacc94d-e95f-4305-9f6b-7891f6078bd1",
   "metadata": {
    "panel-layout": {
     "height": 142.8,
     "visible": true,
     "width": 100
    }
   },
   "outputs": [
    {
     "data": {
      "text/html": [
       "<div>\n",
       "<style scoped>\n",
       "    .dataframe tbody tr th:only-of-type {\n",
       "        vertical-align: middle;\n",
       "    }\n",
       "\n",
       "    .dataframe tbody tr th {\n",
       "        vertical-align: top;\n",
       "    }\n",
       "\n",
       "    .dataframe thead th {\n",
       "        text-align: right;\n",
       "    }\n",
       "</style>\n",
       "<table border=\"1\" class=\"dataframe\">\n",
       "  <thead>\n",
       "    <tr style=\"text-align: right;\">\n",
       "      <th></th>\n",
       "      <th>Servicio</th>\n",
       "      <th>Precio (ARS)</th>\n",
       "    </tr>\n",
       "  </thead>\n",
       "  <tbody>\n",
       "    <tr>\n",
       "      <th>0</th>\n",
       "      <td>Game Pass Core</td>\n",
       "      <td>6000</td>\n",
       "    </tr>\n",
       "    <tr>\n",
       "      <th>1</th>\n",
       "      <td>Game Pass PC</td>\n",
       "      <td>7000</td>\n",
       "    </tr>\n",
       "    <tr>\n",
       "      <th>2</th>\n",
       "      <td>Game Pass Standard</td>\n",
       "      <td>9000</td>\n",
       "    </tr>\n",
       "    <tr>\n",
       "      <th>3</th>\n",
       "      <td>Game Pass Ultimate</td>\n",
       "      <td>10000</td>\n",
       "    </tr>\n",
       "  </tbody>\n",
       "</table>\n",
       "</div>"
      ],
      "text/plain": [
       "             Servicio  Precio (ARS)\n",
       "0      Game Pass Core          6000\n",
       "1        Game Pass PC          7000\n",
       "2  Game Pass Standard          9000\n",
       "3  Game Pass Ultimate         10000"
      ]
     },
     "execution_count": 1,
     "metadata": {},
     "output_type": "execute_result"
    }
   ],
   "source": [
    "from pandas import DataFrame\n",
    "DataFrame({'Servicio':['Game Pass Core',\"Game Pass PC\",\"Game Pass Standard\",\"Game Pass Ultimate\"], 'Precio (ARS)': [6000,7000,9000,10000]})"
   ]
  },
  {
   "cell_type": "markdown",
   "id": "d0128ce5-d2ad-49f6-905b-186ae0cb2b96",
   "metadata": {
    "panel-layout": {
     "height": 44.075,
     "visible": true,
     "width": 100
    }
   },
   "source": [
    "### *Numpy arrays* (array)"
   ]
  },
  {
   "cell_type": "code",
   "execution_count": 3,
   "id": "6ce9d321-d73e-497e-9753-fb0f6e64517d",
   "metadata": {
    "panel-layout": {
     "height": 44.275,
     "visible": true,
     "width": 100
    }
   },
   "outputs": [
    {
     "data": {
      "text/plain": [
       "array([[1, 0],\n",
       "       [0, 1]])"
      ]
     },
     "execution_count": 3,
     "metadata": {},
     "output_type": "execute_result"
    }
   ],
   "source": [
    "from numpy import array\n",
    "array([[1,0],[0,1]])"
   ]
  },
  {
   "cell_type": "markdown",
   "id": "ec6e9442-e070-413f-9acc-898c67dee31a",
   "metadata": {
    "panel-layout": {
     "height": 93.6125,
     "visible": true,
     "width": 100
    }
   },
   "source": [
    "## Variables\n",
    "\n",
    "#### Las variables pueden pensarse como cajas que poseen una etiqueta (nombre) y un contenido (valor)  \n",
    "\n",
    "<center><img src=\"variable1.jpg\" style=\"float: center;\" heigth=\"300\"><center>"
   ]
  },
  {
   "cell_type": "code",
   "execution_count": 61,
   "id": "e046af2f-10b8-4d57-98dc-9a6a24b2e792",
   "metadata": {},
   "outputs": [],
   "source": [
    "pi = 3.141519"
   ]
  },
  {
   "cell_type": "code",
   "execution_count": 63,
   "id": "469b481d-42db-4c0f-a897-fc33a54ffa08",
   "metadata": {
    "panel-layout": {
     "height": 27.1375,
     "visible": true,
     "width": 100
    }
   },
   "outputs": [
    {
     "data": {
      "text/plain": [
       "3.141519"
      ]
     },
     "execution_count": 63,
     "metadata": {},
     "output_type": "execute_result"
    }
   ],
   "source": [
    "pi"
   ]
  },
  {
   "cell_type": "markdown",
   "id": "ead62d28-e7f8-4eaa-b934-4262a223d665",
   "metadata": {
    "panel-layout": {
     "height": 60.35,
     "visible": true,
     "width": 100
    }
   },
   "source": [
    "#### Las variables pueden cambiar de valor\n",
    "\n",
    "<center><img src=\"variable.jpg\" style=\"float: center;\" width=\"300\"><center>"
   ]
  },
  {
   "cell_type": "code",
   "execution_count": 65,
   "id": "3cbbd84b-824f-4910-bcc7-d65d415fed07",
   "metadata": {
    "panel-layout": {
     "height": 27.1375,
     "visible": true,
     "width": 100
    }
   },
   "outputs": [
    {
     "data": {
      "text/plain": [
       "3"
      ]
     },
     "execution_count": 65,
     "metadata": {},
     "output_type": "execute_result"
    }
   ],
   "source": [
    "pi = 3\n",
    "pi"
   ]
  },
  {
   "cell_type": "markdown",
   "id": "bd8c1f55-2412-4c30-ad31-897d3775f4bf",
   "metadata": {},
   "source": [
    "#### Las variables tienen algunas reglas simples pero importantes\n",
    "* #### No pueden empezar por un número. Ej.: 1a = 2\n",
    "* #### No pueden contener caracteres especiales como @. Ej.: !auto = 'volkswagen'\n",
    "* #### No pueden tener el nombre de palabras reservadas. Ej. for, while, not.\n",
    "* #### Sí importan las mayúsculas y minúsculas. Ej.: no es lo mismo AUTO que auto."
   ]
  },
  {
   "cell_type": "markdown",
   "id": "e0db7db2-ea25-491f-9c93-671ffad63a41",
   "metadata": {
    "panel-layout": {
     "height": 44.075,
     "visible": true,
     "width": 100
    }
   },
   "source": [
    "### Ahora vamos a experimentar con lo aprendido hasta el momento"
   ]
  },
  {
   "cell_type": "code",
   "execution_count": null,
   "id": "9e0cdf38-265a-4485-969d-1d60731eec45",
   "metadata": {},
   "outputs": [],
   "source": []
  },
  {
   "cell_type": "markdown",
   "id": "103c4e59-bb0a-4b72-b864-90355f0d005b",
   "metadata": {
    "panel-layout": {
     "height": 50.8125,
     "visible": true,
     "width": 100
    }
   },
   "source": [
    "## Lógica"
   ]
  },
  {
   "cell_type": "code",
   "execution_count": null,
   "id": "eebcc434-1691-45ac-8823-e3eaa45222cd",
   "metadata": {},
   "outputs": [],
   "source": []
  },
  {
   "cell_type": "code",
   "execution_count": null,
   "id": "84c160cd-7310-48e5-97df-aa1ce1c88f3f",
   "metadata": {},
   "outputs": [],
   "source": []
  },
  {
   "cell_type": "code",
   "execution_count": null,
   "id": "ae548198-161a-4763-9729-89f1f4df4243",
   "metadata": {},
   "outputs": [],
   "source": []
  }
 ],
 "metadata": {
  "kernelspec": {
   "display_name": "Python [conda env:base] *",
   "language": "python",
   "name": "conda-base-py"
  },
  "language_info": {
   "codemirror_mode": {
    "name": "ipython",
    "version": 3
   },
   "file_extension": ".py",
   "mimetype": "text/x-python",
   "name": "python",
   "nbconvert_exporter": "python",
   "pygments_lexer": "ipython3",
   "version": "3.12.7"
  },
  "panel-cell-order": [
   "ca694c93-0044-46eb-a3e6-d8190ceabf3b",
   "69816755-c4a1-4a49-821e-7cdc87db1b42",
   "99fdf616-b858-4b8f-838f-750bc927021b",
   "5f865fdb-8d35-42a7-9a6e-1058e650f683",
   "15163a07-c4d9-405d-b17c-54145704d693",
   "cd4b9eed-1fbf-449b-8cd6-e93b72446eba",
   "a0e9c5d0-d0d7-4735-9935-17e171c903e0",
   "144754d8-4135-413d-8063-ff8dfa0035e7",
   "925cdb98-bb61-43f1-b314-7d2b2fd8ab87",
   "67753fe4-7c9e-41a2-9bd9-2142cf025c5a",
   "c7c2b129-7197-45d4-9928-e2a6bce2f81c",
   "cee0ac75-e33f-43f6-b451-539a6283058d",
   "c154d6ef-8878-441e-a800-c0856578ad90",
   "080cb2ce-5a69-416d-b7da-4da7f07c3c37",
   "0c3ba455-59db-4de0-a320-5fb1d250a9d5",
   "36d1202e-5166-4185-9d88-ed50887be049",
   "1ef671ae-cbc3-42e7-8539-d67920decb67",
   "1473aa29-8429-4c4b-9259-e34d47b72338",
   "c9aada08-9bd9-48a8-a21e-b8a464e71b4f",
   "b2fbeca2-efb0-4cd3-ad14-ca39e873e53a",
   "be794395-4067-4527-a4c6-f850e142522c",
   "66ebefae-4ebd-4308-a623-8881b1d51979",
   "c572e4a8-68b5-44af-a39f-3a6b9afab1fb",
   "1ec8a6f5-0b59-4639-b871-8556f5eaec71",
   "93cd8d96-de89-40cc-8e99-9dba89065198",
   "eb12a3a2-0df0-43ec-9f77-24333f49763e",
   "ac219c38-272d-4672-b52f-fea0127ac954",
   "a740d244-d794-40bf-ae22-5903398e9d2d",
   "acacc94d-e95f-4305-9f6b-7891f6078bd1",
   "d0128ce5-d2ad-49f6-905b-186ae0cb2b96",
   "6ce9d321-d73e-497e-9753-fb0f6e64517d",
   "ec6e9442-e070-413f-9acc-898c67dee31a",
   "469b481d-42db-4c0f-a897-fc33a54ffa08",
   "ead62d28-e7f8-4eaa-b934-4262a223d665",
   "3cbbd84b-824f-4910-bcc7-d65d415fed07",
   "e0db7db2-ea25-491f-9c93-671ffad63a41",
   "103c4e59-bb0a-4b72-b864-90355f0d005b"
  ]
 },
 "nbformat": 4,
 "nbformat_minor": 5
}
